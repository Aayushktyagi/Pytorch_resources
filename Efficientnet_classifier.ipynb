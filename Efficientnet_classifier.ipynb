{
  "nbformat": 4,
  "nbformat_minor": 0,
  "metadata": {
    "colab": {
      "name": "Efficientnet_classifier.ipynb",
      "provenance": [],
      "authorship_tag": "ABX9TyMYEna+xNZrN+qCoubLSQ48",
      "include_colab_link": true
    },
    "kernelspec": {
      "name": "python3",
      "display_name": "Python 3"
    }
  },
  "cells": [
    {
      "cell_type": "markdown",
      "metadata": {
        "id": "view-in-github",
        "colab_type": "text"
      },
      "source": [
        "<a href=\"https://colab.research.google.com/github/Aayushktyagi/Pytorch_resources/blob/master/Efficientnet_classifier.ipynb\" target=\"_parent\"><img src=\"https://colab.research.google.com/assets/colab-badge.svg\" alt=\"Open In Colab\"/></a>"
      ]
    },
    {
      "cell_type": "code",
      "metadata": {
        "id": "MpxTSIfIlz-0",
        "colab_type": "code",
        "colab": {}
      },
      "source": [
        "from google.colab import drive\n",
        "drive.mount('/content/drive')"
      ],
      "execution_count": null,
      "outputs": []
    },
    {
      "cell_type": "markdown",
      "metadata": {
        "id": "FphVxiXD-qcl",
        "colab_type": "text"
      },
      "source": [
        "# Stanford Dog classification \n",
        "\n",
        "*   Loading dataset \n",
        "  1.   wget images\n",
        "  2.   unzip\n",
        "  3.   resize to 256x256\n",
        "\n",
        "\n",
        "*   Dataset Visualization\n",
        "*   Initialize EfficientNet\n",
        "*   Train EfficientNet\n",
        "*   Evaluate model \n",
        "*   Visualize predictions \n",
        "\n",
        "\n",
        "\n",
        "\n",
        "\n"
      ]
    },
    {
      "cell_type": "code",
      "metadata": {
        "id": "pLlPviRDA2Ck",
        "colab_type": "code",
        "colab": {}
      },
      "source": [
        "import os\n",
        "from os import path"
      ],
      "execution_count": 6,
      "outputs": []
    },
    {
      "cell_type": "code",
      "metadata": {
        "id": "Z8Kirjbmo32r",
        "colab_type": "code",
        "colab": {}
      },
      "source": [
        "# load dataset\n",
        "if os.path.exists(\"images.tar\") and os.path.exists(\"annotation.tar\"):\n",
        "  # unzip images and annotations \n",
        "  print(\"file exist: Unzipping ....\")\n",
        "  !tar -xvf images.tar\n",
        "  !tar -xvf annotation.tar\n",
        "else:\n",
        "  !wget http://vision.stanford.edu/aditya86/ImageNetDogs/images.tar\n",
        "  !wget http://vision.stanford.edu/aditya86/ImageNetDogs/annotation.tar\n",
        "  # unzip images and annotations \n",
        "  !tar -xvf images.tar\n",
        "  !tar -xvf annotation.tar"
      ],
      "execution_count": null,
      "outputs": []
    },
    {
      "cell_type": "code",
      "metadata": {
        "id": "wBgbiHjYErii",
        "colab_type": "code",
        "colab": {}
      },
      "source": [
        "import torch \n",
        "import numpy as np\n",
        "from torchvision import models, datasets , transforms"
      ],
      "execution_count": 14,
      "outputs": []
    },
    {
      "cell_type": "code",
      "metadata": {
        "id": "nxKHXE6EJyLj",
        "colab_type": "code",
        "colab": {
          "base_uri": "https://localhost:8080/",
          "height": 34
        },
        "outputId": "9d650b4c-e7b5-4f19-8fd8-e2018acc3e84"
      },
      "source": [
        "# pre-process datasest\n",
        "\n",
        "data_transforms = {\n",
        "    'Train': transforms.Compose([\n",
        "    transforms.Resize(256),\n",
        "    transforms.RandomRotation(45),\n",
        "    transforms.RandomHorizontalFlip(),\n",
        "    transforms.ToTensor(),\n",
        "    transforms.Normalize([0.485, 0.456, 406],[0.229, 0.224, 0.225])\n",
        "    ]),\n",
        "    'Test': transforms.Compose([\n",
        "    transforms.Resize(256),\n",
        "    transforms.ToTensor(),\n",
        "    transforms.Normalize([0.485, 0.456, 0.406],[0.229, 0.224, 0.225])\n",
        "    ])\n",
        "}\n",
        "\n",
        "folder_name = 'Images'\n",
        "\n",
        "images_datasets = {x: datasets.ImageFolder(folder_name,\n",
        "                                           data_transforms[x])\n",
        "                  for x in ['Train','Test']} \n",
        "dataloader = {x: torch.utils.data.DataLoader(images_datasets[x],batch_size = 8,\n",
        "                                             shuffle = True , num_workers = 4)\n",
        "                  for x in ['Train', 'Test']}\n",
        "\n",
        "dataset_size = {x: len(images_datasets[x]) for x in ['Train','Test']}\n",
        "print(dataset_size)\n"
      ],
      "execution_count": 20,
      "outputs": [
        {
          "output_type": "stream",
          "text": [
            "{'Train': 20580, 'Test': 20580}\n"
          ],
          "name": "stdout"
        }
      ]
    },
    {
      "cell_type": "code",
      "metadata": {
        "id": "7R7_keyERwes",
        "colab_type": "code",
        "colab": {}
      },
      "source": [
        ""
      ],
      "execution_count": null,
      "outputs": []
    }
  ]
}