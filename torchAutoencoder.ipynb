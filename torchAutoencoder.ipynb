{
  "nbformat": 4,
  "nbformat_minor": 0,
  "metadata": {
    "colab": {
      "name": "torchAutoencoder.ipynb",
      "provenance": [],
      "collapsed_sections": [],
      "authorship_tag": "ABX9TyMeJ89mfP4MaZUB1a8RpcjE",
      "include_colab_link": true
    },
    "kernelspec": {
      "name": "python3",
      "display_name": "Python 3"
    },
    "accelerator": "GPU"
  },
  "cells": [
    {
      "cell_type": "markdown",
      "metadata": {
        "id": "view-in-github",
        "colab_type": "text"
      },
      "source": [
        "<a href=\"https://colab.research.google.com/github/Aayushktyagi/Pytorch_resources/blob/master/torchAutoencoder.ipynb\" target=\"_parent\"><img src=\"https://colab.research.google.com/assets/colab-badge.svg\" alt=\"Open In Colab\"/></a>"
      ]
    },
    {
      "cell_type": "code",
      "metadata": {
        "id": "PN8akukn11t7",
        "colab_type": "code",
        "colab": {
          "base_uri": "https://localhost:8080/",
          "height": 34
        },
        "outputId": "e25c14d5-285b-4de2-e289-a2b051bc1e2e"
      },
      "source": [
        "from google.colab import drive\n",
        "drive.mount('/content/drive')"
      ],
      "execution_count": 1,
      "outputs": [
        {
          "output_type": "stream",
          "text": [
            "Drive already mounted at /content/drive; to attempt to forcibly remount, call drive.mount(\"/content/drive\", force_remount=True).\n"
          ],
          "name": "stdout"
        }
      ]
    },
    {
      "cell_type": "markdown",
      "metadata": {
        "id": "EN5lUfrD3upr",
        "colab_type": "text"
      },
      "source": [
        "Notebook conatins following\n",
        "Loading mnist data \n",
        "\n",
        "*   Loading Mnist dataset \n",
        "*   Create Autoencoder \n",
        "*   Visualize predictions \n",
        "\n",
        "\n"
      ]
    },
    {
      "cell_type": "code",
      "metadata": {
        "id": "NquqrQQf27y-",
        "colab_type": "code",
        "colab": {}
      },
      "source": [
        "import torch\n",
        "import torchvision\n",
        "import torchvision.datasets as dset\n",
        "import torchvision.transforms as transforms\n",
        "import matplotlib.pyplot as plt\n",
        "import torch.nn as nn\n",
        "from torch.autograd import Variable\n",
        "import numpy as np\n",
        "from time import time"
      ],
      "execution_count": 2,
      "outputs": []
    },
    {
      "cell_type": "code",
      "metadata": {
        "id": "g7FtSQuV3UuW",
        "colab_type": "code",
        "colab": {}
      },
      "source": [
        "# Hyper parameters\n",
        "latent_dim = 64\n",
        "batch_size = 128\n",
        "LR = 0.005\n",
        "Download_mnist = True\n",
        "epochs = 10"
      ],
      "execution_count": 6,
      "outputs": []
    },
    {
      "cell_type": "code",
      "metadata": {
        "id": "4b8ryCR8kqw9",
        "colab_type": "code",
        "colab": {}
      },
      "source": [
        "# Load dataset \n",
        "dataset = dset.MNIST(root = './data',\n",
        "                     train = True,\n",
        "                     transform = transforms.ToTensor(),\n",
        "                     download = Download_mnist)\n",
        "\n",
        "data_loader = torch.utils.data.DataLoader(dataset = dataset , \n",
        "                                          batch_size = batch_size,\n",
        "                                          shuffle = True)"
      ],
      "execution_count": 4,
      "outputs": []
    },
    {
      "cell_type": "code",
      "metadata": {
        "id": "1CUN_Mb6pCb6",
        "colab_type": "code",
        "colab": {}
      },
      "source": [
        "# to cuda\n",
        "\n",
        "def to_cuda(x):\n",
        "  if torch.cuda.is_available():\n",
        "    x = x.cuda()\n",
        "  return Variable(x)\n",
        "\n",
        "\n"
      ],
      "execution_count": 5,
      "outputs": []
    },
    {
      "cell_type": "code",
      "metadata": {
        "id": "p7APDQ5opWzZ",
        "colab_type": "code",
        "colab": {}
      },
      "source": [
        "# Define model\n",
        "\n",
        "class Autoencoder(nn.Module):\n",
        "  def __init__(self , in_dim = 784 , h_dim = 400):\n",
        "    super(Autoencoder ,self).__init__()\n",
        "\n",
        "    self.encoder = nn.Sequential(\n",
        "        nn.Linear(in_dim , h_dim),\n",
        "        nn.ReLU()\n",
        "    )\n",
        "\n",
        "    self.decoder = nn.Sequential(\n",
        "        nn.Linear(h_dim , in_dim),\n",
        "        nn.Sigmoid()\n",
        "    )\n",
        "\n",
        "  def forward(self , x):\n",
        "    out = self.encoder(x)\n",
        "    out = self.decoder(out)\n",
        "\n",
        "    return out \n",
        "\n",
        "ae = Autoencoder(in_dim = 784 , h_dim = latent_dim)\n",
        "\n",
        "if torch.cuda.is_available():\n",
        "  ae.cuda()\n"
      ],
      "execution_count": 7,
      "outputs": []
    },
    {
      "cell_type": "code",
      "metadata": {
        "id": "DMI3a_SO5uZM",
        "colab_type": "code",
        "colab": {}
      },
      "source": [
        "# loss\n",
        "criterion = nn.BCELoss()\n",
        "optimizer = torch.optim.Adam(ae.parameters() , lr = LR)\n"
      ],
      "execution_count": 8,
      "outputs": []
    },
    {
      "cell_type": "code",
      "metadata": {
        "id": "2Em5DwdM64k5",
        "colab_type": "code",
        "colab": {
          "base_uri": "https://localhost:8080/",
          "height": 712
        },
        "outputId": "52d3178d-b960-405c-d88c-0c00c49bb24a"
      },
      "source": [
        "# training \n",
        "data_iter = iter(data_loader)\n",
        "t0 = time()\n",
        "\n",
        "\n",
        "for epoch in range(epochs):\n",
        "  for i, (images,_) in enumerate(data_loader):\n",
        "    # flatten image \n",
        "    images = to_cuda(images.view(images.size(0),-1))\n",
        "    out = ae(images)\n",
        "    loss = criterion(out ,images)\n",
        "    optimizer.zero_grad()\n",
        "    loss.backward()\n",
        "    optimizer.step()\n",
        "\n",
        "    if (i+1) % 100 == 0:\n",
        "            print ('Epoch [%d/%d], Iter [%d/%d] Loss: %.4f Time: %.2fs' \n",
        "                %(epoch+1, epochs, i+1, len(dataset)//batch_size, loss.item(), time()-t0))\n"
      ],
      "execution_count": 9,
      "outputs": [
        {
          "output_type": "stream",
          "text": [
            "Epoch [1/10], Iter [100/468] Loss: 0.1719 Time: 1.82s\n",
            "Epoch [1/10], Iter [200/468] Loss: 0.1327 Time: 3.59s\n",
            "Epoch [1/10], Iter [300/468] Loss: 0.1212 Time: 5.42s\n",
            "Epoch [1/10], Iter [400/468] Loss: 0.1072 Time: 7.19s\n",
            "Epoch [2/10], Iter [100/468] Loss: 0.0952 Time: 10.18s\n",
            "Epoch [2/10], Iter [200/468] Loss: 0.0918 Time: 11.99s\n",
            "Epoch [2/10], Iter [300/468] Loss: 0.0885 Time: 13.79s\n",
            "Epoch [2/10], Iter [400/468] Loss: 0.0888 Time: 15.57s\n",
            "Epoch [3/10], Iter [100/468] Loss: 0.0907 Time: 18.54s\n",
            "Epoch [3/10], Iter [200/468] Loss: 0.0906 Time: 20.32s\n",
            "Epoch [3/10], Iter [300/468] Loss: 0.0896 Time: 22.08s\n",
            "Epoch [3/10], Iter [400/468] Loss: 0.0867 Time: 23.88s\n",
            "Epoch [4/10], Iter [100/468] Loss: 0.0935 Time: 26.84s\n",
            "Epoch [4/10], Iter [200/468] Loss: 0.0881 Time: 28.66s\n",
            "Epoch [4/10], Iter [300/468] Loss: 0.0884 Time: 30.42s\n",
            "Epoch [4/10], Iter [400/468] Loss: 0.0926 Time: 32.18s\n",
            "Epoch [5/10], Iter [100/468] Loss: 0.0906 Time: 35.15s\n",
            "Epoch [5/10], Iter [200/468] Loss: 0.0905 Time: 36.89s\n",
            "Epoch [5/10], Iter [300/468] Loss: 0.0893 Time: 38.67s\n",
            "Epoch [5/10], Iter [400/468] Loss: 0.0934 Time: 40.44s\n",
            "Epoch [6/10], Iter [100/468] Loss: 0.0918 Time: 43.46s\n",
            "Epoch [6/10], Iter [200/468] Loss: 0.0852 Time: 45.24s\n",
            "Epoch [6/10], Iter [300/468] Loss: 0.0914 Time: 47.05s\n",
            "Epoch [6/10], Iter [400/468] Loss: 0.0915 Time: 48.85s\n",
            "Epoch [7/10], Iter [100/468] Loss: 0.0872 Time: 51.84s\n",
            "Epoch [7/10], Iter [200/468] Loss: 0.0901 Time: 53.70s\n",
            "Epoch [7/10], Iter [300/468] Loss: 0.0885 Time: 55.49s\n",
            "Epoch [7/10], Iter [400/468] Loss: 0.0930 Time: 57.33s\n",
            "Epoch [8/10], Iter [100/468] Loss: 0.0844 Time: 60.37s\n",
            "Epoch [8/10], Iter [200/468] Loss: 0.0873 Time: 62.20s\n",
            "Epoch [8/10], Iter [300/468] Loss: 0.0907 Time: 64.04s\n",
            "Epoch [8/10], Iter [400/468] Loss: 0.0889 Time: 65.80s\n",
            "Epoch [9/10], Iter [100/468] Loss: 0.0852 Time: 68.81s\n",
            "Epoch [9/10], Iter [200/468] Loss: 0.0875 Time: 70.56s\n",
            "Epoch [9/10], Iter [300/468] Loss: 0.0881 Time: 72.36s\n",
            "Epoch [9/10], Iter [400/468] Loss: 0.0860 Time: 74.17s\n",
            "Epoch [10/10], Iter [100/468] Loss: 0.0875 Time: 77.20s\n",
            "Epoch [10/10], Iter [200/468] Loss: 0.0883 Time: 78.95s\n",
            "Epoch [10/10], Iter [300/468] Loss: 0.0923 Time: 80.71s\n",
            "Epoch [10/10], Iter [400/468] Loss: 0.0897 Time: 82.49s\n"
          ],
          "name": "stdout"
        }
      ]
    },
    {
      "cell_type": "code",
      "metadata": {
        "id": "PTJHhOa2FPkN",
        "colab_type": "code",
        "colab": {
          "base_uri": "https://localhost:8080/",
          "height": 305
        },
        "outputId": "406a9c13-7a77-48ea-fbe6-543437eab775"
      },
      "source": [
        "def img_transpose(img):\n",
        "  npimg = img.numpy()\n",
        "  npimg = np.transpose(npimg , (1,2,0))\n",
        "  return npimg\n",
        "\n",
        "def img_subplot(imgs , title):\n",
        "  w=10\n",
        "  h=10\n",
        "  fig=plt.figure(figsize=(8, 8))\n",
        "  columns = 4\n",
        "  rows = 1\n",
        "  for i in range(1, columns*rows +1):\n",
        "      img = imgs[i]\n",
        "      fig.add_subplot(rows, columns, i)\n",
        "      plt.imshow(img.reshape(28,28))\n",
        "  plt.title(title)\n",
        "  plt.show()\n",
        "\n",
        "# show orignal images \n",
        "images ,_ = next(iter(data_loader))\n",
        "img_subplot(images , \"orignal image\")\n",
        "\n",
        "# show reconstructed images\n",
        "flat_x = to_cuda(images.view(images.size(0), -1))\n",
        "reconstructed_img = ae(flat_x)\n",
        "reconstrcuted_img = reconstructed_img.view(reconstructed_img.size(0),1,28,28)\n",
        "reconstrcuted_img = reconstrcuted_img.data.cpu()\n",
        "renpimg = reconstrcuted_img.numpy()\n",
        "renpimg = np.transpose(renpimg , (0,2,3,1))\n",
        "img_subplot(renpimg , \"reconst Images\")\n"
      ],
      "execution_count": 31,
      "outputs": [
        {
          "output_type": "display_data",
          "data": {
            "image/png": "[encoded data removed]",
            "text/plain": [
              "<Figure size 576x576 with 4 Axes>"
            ]
          },
          "metadata": {
            "tags": [],
            "needs_background": "light"
          }
        },
        {
          "output_type": "display_data",
          "data": {
            "image/png": "[encoded data removed]",
            "text/plain": [
              "<Figure size 576x576 with 4 Axes>"
            ]
          },
          "metadata": {
            "tags": [],
            "needs_background": "light"
          }
        }
      ]
    },
    {
      "cell_type": "code",
      "metadata": {
        "id": "9ZzCpPuHRFoR",
        "colab_type": "code",
        "colab": {}
      },
      "source": [
        ""
      ],
      "execution_count": null,
      "outputs": []
    }
  ]
}