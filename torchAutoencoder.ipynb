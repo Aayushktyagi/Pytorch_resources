{
  "nbformat": 4,
  "nbformat_minor": 0,
  "metadata": {
    "colab": {
      "name": "torchAutoencoder.ipynb",
      "provenance": [],
      "collapsed_sections": [],
      "authorship_tag": "ABX9TyO+53k2+9LU8ccVTyN2e0Ei",
      "include_colab_link": true
    },
    "kernelspec": {
      "name": "python3",
      "display_name": "Python 3"
    }
  },
  "cells": [
    {
      "cell_type": "markdown",
      "metadata": {
        "id": "view-in-github",
        "colab_type": "text"
      },
      "source": [
        "<a href=\"https://colab.research.google.com/github/Aayushktyagi/Pytorch_resources/blob/master/torchAutoencoder.ipynb\" target=\"_parent\"><img src=\"https://colab.research.google.com/assets/colab-badge.svg\" alt=\"Open In Colab\"/></a>"
      ]
    },
    {
      "cell_type": "code",
      "metadata": {
        "id": "PN8akukn11t7",
        "colab_type": "code",
        "colab": {
          "base_uri": "https://localhost:8080/",
          "height": 124
        },
        "outputId": "f9bd034b-dd46-466d-d9cd-dd578e914eff"
      },
      "source": [
        "from google.colab import drive\n",
        "drive.mount('/content/drive')"
      ],
      "execution_count": 1,
      "outputs": [
        {
          "output_type": "stream",
          "text": [
            "Go to this URL in a browser: https://accounts.google.com/o/oauth2/auth?client_id=947318989803-6bn6qk8qdgf4n4g3pfee6491hc0brc4i.apps.googleusercontent.com&redirect_uri=urn%3aietf%3awg%3aoauth%3a2.0%3aoob&response_type=code&scope=email%20https%3a%2f%2fwww.googleapis.com%2fauth%2fdocs.test%20https%3a%2f%2fwww.googleapis.com%2fauth%2fdrive%20https%3a%2f%2fwww.googleapis.com%2fauth%2fdrive.photos.readonly%20https%3a%2f%2fwww.googleapis.com%2fauth%2fpeopleapi.readonly\n",
            "\n",
            "Enter your authorization code:\n",
            "··········\n",
            "Mounted at /content/drive\n"
          ],
          "name": "stdout"
        }
      ]
    },
    {
      "cell_type": "markdown",
      "metadata": {
        "id": "EN5lUfrD3upr",
        "colab_type": "text"
      },
      "source": [
        "Notebook conatins following\n",
        "Loading mnist data \n",
        "\n",
        "*   Loading Mnist dataset \n",
        "*   Create Autoencoder \n",
        "*   Visualize predictions \n",
        "\n",
        "\n"
      ]
    },
    {
      "cell_type": "code",
      "metadata": {
        "id": "NquqrQQf27y-",
        "colab_type": "code",
        "colab": {}
      },
      "source": [
        "import torch\n",
        "import torchvision\n",
        "import torchvision.datasets as dset\n",
        "import torchvision.transforms as transforms\n",
        "import matplotplib.pyplot as plt\n",
        "import torch.nn as nn\n",
        "import numpy as np\n"
      ],
      "execution_count": null,
      "outputs": []
    },
    {
      "cell_type": "code",
      "metadata": {
        "id": "g7FtSQuV3UuW",
        "colab_type": "code",
        "colab": {}
      },
      "source": [
        "# Hyper parameters\n",
        "latent_dim = 64\n",
        "batch_size = 128\n",
        "LR = 0.005\n",
        "Download_minist = False\n",
        "epochs = 100"
      ],
      "execution_count": null,
      "outputs": []
    },
    {
      "cell_type": "code",
      "metadata": {
        "id": "4b8ryCR8kqw9",
        "colab_type": "code",
        "colab": {}
      },
      "source": [
        "# Load dataset \n",
        "dataset = dset.MNIST(root = './data',\n",
        "                     train = True,\n",
        "                     transforms = transforms.ToTensor(),\n",
        "                     download = Download_mnist)\n",
        "\n",
        "data_loader = torch.utils.data.DataLoader(dataset = dataset , \n",
        "                                          batch_size = batch_size,\n",
        "                                          shuffle = True)"
      ],
      "execution_count": null,
      "outputs": []
    },
    {
      "cell_type": "code",
      "metadata": {
        "id": "1CUN_Mb6pCb6",
        "colab_type": "code",
        "colab": {}
      },
      "source": [
        "# to cuda\n",
        "\n",
        "def to_cuda(x):\n",
        "  if torch.cuda.is_available():\n",
        "    x = x.cuda()\n",
        "  return Variable(x)\n",
        "\n",
        "\n"
      ],
      "execution_count": null,
      "outputs": []
    },
    {
      "cell_type": "code",
      "metadata": {
        "id": "p7APDQ5opWzZ",
        "colab_type": "code",
        "colab": {}
      },
      "source": [
        "# Define model\n",
        "\n",
        "class Autoencoder(nn.Module):\n",
        "  def __init__(self , in_dim = 784 , h_dim = 400):\n",
        "    super(Autoencoder ,self).__init__()\n",
        "\n",
        "    self.encoder = nn.Sequential(\n",
        "        nn.Linear(in_dim , h_dim),\n",
        "        nn.ReLU()\n",
        "    )\n",
        "\n",
        "    self.decoder = nn.Sequential(\n",
        "        nn.Linear(h_dim , in_dim)\n",
        "        nn.Sigmoid()\n",
        "    )\n",
        "\n",
        "  def forward(self , x):\n",
        "    out = self.encoder(x)\n",
        "    out = self.decoder(out)\n",
        "\n",
        "    return out \n",
        "\n",
        "ae = Autoencoder(in_dim = 784 , h_dim = latent_dim)\n",
        "\n",
        "if cuda.torch.is_available():\n",
        "  ae.cuda()\n"
      ],
      "execution_count": null,
      "outputs": []
    },
    {
      "cell_type": "code",
      "metadata": {
        "id": "DMI3a_SO5uZM",
        "colab_type": "code",
        "colab": {}
      },
      "source": [
        "# loss\n",
        "criterion = nn.BCELoss()\n",
        "optimizer = torch.optim.Adam(ae.parameters() , lr = LR)\n"
      ],
      "execution_count": null,
      "outputs": []
    },
    {
      "cell_type": "code",
      "metadata": {
        "id": "2Em5DwdM64k5",
        "colab_type": "code",
        "colab": {}
      },
      "source": [
        "# training \n"
      ],
      "execution_count": null,
      "outputs": []
    }
  ]
}